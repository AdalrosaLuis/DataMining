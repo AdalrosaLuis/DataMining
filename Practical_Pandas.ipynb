{
 "cells": [
  {
   "cell_type": "markdown",
   "metadata": {},
   "source": [
    "# Practical 4"
   ]
  },
  {
   "cell_type": "markdown",
   "metadata": {},
   "source": [
    "In this face-to-face class, you will be asked to solve one exercise about data manipulation, exploration, and cleaning, using Pandas.\n",
    "\n",
    "We will explore the famous Titanic dataset listing all passengers with various properties.\n",
    "\n",
    "Good work!!"
   ]
  },
  {
   "cell_type": "markdown",
   "metadata": {
    "id": "KnPmKveH0DkL"
   },
   "source": [
    "\n",
    "\n",
    "#  Titanic Survival \n",
    "\n",
    "<br/>\n",
    "<hr>\n",
    "\n",
    "\n",
    "### Follow the steps\n",
    "\n",
    "<br/>\n",
    "\n",
    "### 0. Setup\n",
    "\n",
    "### 1. Dataset\n",
    "\n",
    "### 2. Exploration\n",
    "\n",
    "### 3. Clean\n",
    "\n",
    "\n",
    "\n",
    "\n",
    "<br/>"
   ]
  },
  {
   "cell_type": "markdown",
   "metadata": {
    "id": "HVXICK_00DkO"
   },
   "source": [
    "<hr>\n",
    "\n",
    "# 0. Setup\n",
    "\n",
    "<br>\n",
    "\n",
    "### Libraries:\n",
    "\n",
    "- pandas (https://pandas.pydata.org/docs/getting_started/index.html#getting-started)\n",
    "\n",
    "\n",
    "- numpy (https://numpy.org/doc/1.15/user/quickstart.html)\n",
    "\n"
   ]
  },
  {
   "cell_type": "code",
   "execution_count": 29,
   "metadata": {
    "id": "LiGlcy1m0DkQ"
   },
   "outputs": [],
   "source": [
    "import pandas as pd\n",
    "import numpy as np"
   ]
  },
  {
   "cell_type": "markdown",
   "metadata": {
    "id": "nNbC5pVs0Dka"
   },
   "source": [
    "### Installation\n",
    "<br>\n",
    "(Replace name_of_library by the library that you want to install.)\n",
    "\n",
    "If the import code does not show an error such as: \"`ImportError: No module named name_of_library`\" the library is installed.\n",
    "\n",
    "<br>\n",
    "\n",
    "**For Anaconda** \n",
    "\n",
    "Probably your environment already has this library. \n",
    "\n",
    "To install it go to: Anaconda Navigator -> Environments -> select the dropdown input to \"all\" -> search for \"name_of_library\" -> check and apply on \"name_of_library\". \n",
    "\n",
    "<br>\n",
    "\n",
    "**For Google Colab** \n",
    "\n",
    "Execute this line of code to install it `!pip install name_of_library`.\n",
    "\n",
    "<br>\n",
    "\n",
    "**For Python environment** \n",
    "\n",
    "Execute on the terminal: `pip install name_of_library`, note that if your environment has the python 2 and 3 versions you need to execute `pip3 install name_of_library`. You can check the installed libraries by executing on terminal `pip freeze`, again, replace `pip` by `pip3` if you have python 2 and 3.\n"
   ]
  },
  {
   "cell_type": "markdown",
   "metadata": {
    "id": "AAgEB3JY0Dkb"
   },
   "source": [
    "<br>\n",
    "<hr>\n",
    "\n",
    "# 1. Dataset\n",
    "\n",
    "We will use the Boston  Titanic Dataset, data covers passengers only, not the crew.\n",
    "\n",
    "\n",
    "The dataset is the `\"titanic_dataset.csv\"` file. A `.csv` (comma-separated values) can be seen as a table with the first line being the header and the following rows the content, the columns are separated usually by comma, but can also be separated by semicolon.\n",
    "\n",
    "<br>\n",
    "\n",
    "### Data Dictionary\n",
    "\n",
    "\n",
    "- `Pclass` - ticket class (1 = 1st, 2 = 2nd, 3 = 3rd)\n",
    "\n",
    "\n",
    "- `Survived` - survival (0 = No, 1=Yes)\n",
    "\n",
    "\n",
    "- `Name` - name\t\n",
    "\n",
    "\n",
    "- `Sex` - sex\t\n",
    "\n",
    "\n",
    "- `Age`\t- age in years, can be aproximated\t\n",
    "\n",
    "\n",
    "- `Sibsp` - number of siblings / spouses aboard the Titanic\t\n",
    "\n",
    "\n",
    "- `Parch` - number of parents / children aboard the Titanic\t\n",
    "\n",
    "\n",
    "- `Ticket` - ticket number\t\n",
    "\n",
    "\n",
    "- `Fare` - passenger fare (british pound)\n",
    "\n",
    "\n",
    "- `Cabin` - cabin number (A = top deck, G = bottom deck)\n",
    "\n",
    "\n",
    "- `Embarked` - port of embarkation (C = Cherbourg, Q = Queenstown, S = Southampton)\n",
    "\n",
    "\n",
    "\n",
    "## 1.1 Read into a `dataframe`\n",
    "\n",
    "We will use the `pandas` library to read our dataset, let's read into a `dataframe`. A `dataframe` can be seen as a table, but with useful methods to interact with our data (https://pandas.pydata.org/docs/getting_started/intro_tutorials/01_table_oriented.html#min-tut-01-tableoriented)."
   ]
  },
  {
   "cell_type": "code",
   "execution_count": 1,
   "metadata": {
    "id": "Uwm5rdIO0Dkd"
   },
   "outputs": [],
   "source": [
    "# your code here\n",
    "\n",
    "\n"
   ]
  },
  {
   "cell_type": "markdown",
   "metadata": {
    "id": "HZn9HkLW0Dkk"
   },
   "source": [
    "## 1.2 What is the size of our Dataframe?"
   ]
  },
  {
   "cell_type": "code",
   "execution_count": 2,
   "metadata": {
    "id": "D_wf-uWs0Dkm"
   },
   "outputs": [],
   "source": [
    "# your code here\n"
   ]
  },
  {
   "cell_type": "markdown",
   "metadata": {
    "id": "P_mWdDjA0Dk0"
   },
   "source": [
    "# 2. Exploration"
   ]
  },
  {
   "cell_type": "markdown",
   "metadata": {
    "id": "_u1Wt7u80Dk1"
   },
   "source": [
    "## 2.1 Display the first and last 5 rows"
   ]
  },
  {
   "cell_type": "code",
   "execution_count": 3,
   "metadata": {
    "id": "ZUPcMj0Z0Dk2"
   },
   "outputs": [],
   "source": [
    "# your code here \n"
   ]
  },
  {
   "cell_type": "code",
   "execution_count": 4,
   "metadata": {},
   "outputs": [],
   "source": [
    "# your code here \n"
   ]
  },
  {
   "cell_type": "markdown",
   "metadata": {
    "id": "OppSQGrl0Dk9"
   },
   "source": [
    "## 2.2 How many passengers do we have?"
   ]
  },
  {
   "cell_type": "code",
   "execution_count": 34,
   "metadata": {
    "id": "Aw_-5MB30Dk-"
   },
   "outputs": [],
   "source": [
    "# your code here\n"
   ]
  },
  {
   "cell_type": "markdown",
   "metadata": {
    "id": "ssh24sOB0DlC"
   },
   "source": [
    "## 2.3 What type of features do we have?"
   ]
  },
  {
   "cell_type": "code",
   "execution_count": 35,
   "metadata": {
    "id": "Fwec55Kk0DlD",
    "outputId": "879a2c27-564c-44df-a3f0-01f7a8ac264c"
   },
   "outputs": [],
   "source": [
    "# your code here \n"
   ]
  },
  {
   "cell_type": "markdown",
   "metadata": {},
   "source": [
    "## 2.4 Database description"
   ]
  },
  {
   "cell_type": "code",
   "execution_count": 36,
   "metadata": {},
   "outputs": [],
   "source": [
    "# your code here \n"
   ]
  },
  {
   "cell_type": "markdown",
   "metadata": {
    "id": "fVQfjcd10DlG"
   },
   "source": [
    "## 2.5 Describe the features Age and Sex"
   ]
  },
  {
   "cell_type": "code",
   "execution_count": 37,
   "metadata": {
    "id": "VYr704V40DlG",
    "outputId": "df7be0bd-5443-4a82-c6aa-54aea8f2c431"
   },
   "outputs": [],
   "source": [
    "# your code here \n",
    "# numeric description\n"
   ]
  },
  {
   "cell_type": "code",
   "execution_count": 38,
   "metadata": {
    "id": "kOSqEgO80DlM",
    "outputId": "f462f2f8-1551-4a19-d3de-6c9958427c0e"
   },
   "outputs": [],
   "source": [
    "# your code here \n",
    "# categorical description\n",
    "\n"
   ]
  },
  {
   "cell_type": "markdown",
   "metadata": {},
   "source": [
    "## 2.6 How many persons survived?"
   ]
  },
  {
   "cell_type": "code",
   "execution_count": 39,
   "metadata": {},
   "outputs": [],
   "source": [
    "# your code here \n",
    "\n"
   ]
  },
  {
   "cell_type": "markdown",
   "metadata": {},
   "source": [
    "## 2.7 What is the survival percentage?"
   ]
  },
  {
   "cell_type": "code",
   "execution_count": 40,
   "metadata": {},
   "outputs": [],
   "source": [
    "# your code here "
   ]
  },
  {
   "cell_type": "markdown",
   "metadata": {},
   "source": [
    "## 2.8 Build a `Survivors_df ` dataframe with three columns: Survived, Sex and Age. Sort the new dataframe by Age"
   ]
  },
  {
   "cell_type": "code",
   "execution_count": 5,
   "metadata": {},
   "outputs": [],
   "source": [
    "# your code here \n"
   ]
  },
  {
   "cell_type": "markdown",
   "metadata": {},
   "source": [
    "## 2.9 Children\n",
    " We want to differentiate between a child and an adult and see how survival rates are affected.\n",
    "\n",
    "Use boolean indexing to create a new dataframe called `Children_df` containing only rows of child passengers (less than 18 years old)"
   ]
  },
  {
   "cell_type": "code",
   "execution_count": 13,
   "metadata": {},
   "outputs": [],
   "source": [
    "# your code here \n"
   ]
  },
  {
   "cell_type": "markdown",
   "metadata": {},
   "source": [
    "### How many children were there in the Titanic?"
   ]
  },
  {
   "cell_type": "code",
   "execution_count": 14,
   "metadata": {},
   "outputs": [],
   "source": [
    "# your code here \n"
   ]
  },
  {
   "cell_type": "markdown",
   "metadata": {},
   "source": [
    "### How many children survived?"
   ]
  },
  {
   "cell_type": "code",
   "execution_count": 15,
   "metadata": {},
   "outputs": [],
   "source": [
    "# your code here "
   ]
  },
  {
   "cell_type": "markdown",
   "metadata": {},
   "source": [
    "## 2.10 What is the mean, max and min \"Fare\"?"
   ]
  },
  {
   "cell_type": "code",
   "execution_count": 16,
   "metadata": {},
   "outputs": [],
   "source": [
    "# your code here "
   ]
  },
  {
   "cell_type": "markdown",
   "metadata": {
    "slideshow": {
     "slide_type": "subslide"
    }
   },
   "source": [
    "\n",
    "## 2.11 Fare into intervals\n",
    "\n",
    "Add the features `Fare<=32`, `Fare]32-500[`, `Fare>=500`, where boolean results from `Fare`should appear\n",
    " "
   ]
  },
  {
   "cell_type": "code",
   "execution_count": 27,
   "metadata": {},
   "outputs": [],
   "source": [
    "# your code here "
   ]
  },
  {
   "cell_type": "markdown",
   "metadata": {
    "id": "bJdxcFDL0DlZ"
   },
   "source": [
    "## 2.12 Count the values of the column \"Pclass\""
   ]
  },
  {
   "cell_type": "code",
   "execution_count": 17,
   "metadata": {
    "id": "1Pj6uBuG0DlZ",
    "outputId": "e485a39a-af2f-48a5-c782-9f2e598c7deb"
   },
   "outputs": [],
   "source": [
    "# your code here "
   ]
  },
  {
   "cell_type": "markdown",
   "metadata": {
    "id": "bNYwpe1G0Dlb"
   },
   "source": [
    "### Now, count with normalization"
   ]
  },
  {
   "cell_type": "code",
   "execution_count": 18,
   "metadata": {
    "id": "uX53hCon0Dlc",
    "outputId": "8d64aa20-2f93-40e3-ee4a-0254bca0f5e4"
   },
   "outputs": [],
   "source": [
    "# your code here "
   ]
  },
  {
   "cell_type": "markdown",
   "metadata": {
    "id": "1-bw3s2w0Dlq"
   },
   "source": [
    "## 2.13 Convert categorical features \"male\" and \"female\" to numeric "
   ]
  },
  {
   "cell_type": "code",
   "execution_count": 19,
   "metadata": {
    "id": "nuWc899Z0Dlq"
   },
   "outputs": [],
   "source": [
    "# your code here"
   ]
  },
  {
   "cell_type": "markdown",
   "metadata": {
    "id": "jPhkYoEZ0Dlx"
   },
   "source": [
    "## 2.14 How many relatives\n",
    "\n",
    "Create a new feature called `relatives` that represents the number of relatives."
   ]
  },
  {
   "cell_type": "code",
   "execution_count": 20,
   "metadata": {
    "colab": {
     "base_uri": "https://localhost:8080/",
     "height": 185
    },
    "id": "QP_SFJBy0Dl0",
    "outputId": "42ca1d5a-f67d-4867-b649-dd6e02a82ce4",
    "scrolled": true
   },
   "outputs": [],
   "source": [
    "# your code here \n"
   ]
  },
  {
   "cell_type": "markdown",
   "metadata": {
    "id": "M4KdDx8L0Dl2"
   },
   "source": [
    "## 2.15 It was alone?\n",
    "\n",
    "Create a new feature called `alone` that represents if a passenger was alone. "
   ]
  },
  {
   "cell_type": "code",
   "execution_count": 21,
   "metadata": {
    "colab": {
     "base_uri": "https://localhost:8080/",
     "height": 67
    },
    "id": "wZAwxifu0Dl3",
    "outputId": "6337233e-72f9-4749-ed42-817d3db2dae1"
   },
   "outputs": [],
   "source": [
    "# your code here\n"
   ]
  },
  {
   "cell_type": "markdown",
   "metadata": {
    "id": "yxCnnxkK0Dli"
   },
   "source": [
    "<br>\n",
    "<hr>\n",
    "\n",
    "# 3. Clean\n",
    "\n",
    "Clean the dataset before save it"
   ]
  },
  {
   "cell_type": "markdown",
   "metadata": {
    "id": "HBKGJQI30Dl5"
   },
   "source": [
    "## 3.1 Missing values"
   ]
  },
  {
   "cell_type": "markdown",
   "metadata": {
    "id": "oDl1pidF0Dl5"
   },
   "source": [
    "### How many missing values exist in the dataframe"
   ]
  },
  {
   "cell_type": "code",
   "execution_count": 22,
   "metadata": {
    "colab": {
     "base_uri": "https://localhost:8080/",
     "height": 235
    },
    "id": "_BJWtvQS0Dl5",
    "outputId": "c811d993-17a3-40df-d66c-36f8185dab07"
   },
   "outputs": [],
   "source": [
    "# your code here"
   ]
  },
  {
   "cell_type": "markdown",
   "metadata": {
    "id": "gignxoo70Dl7"
   },
   "source": [
    "### Find the percentage of missing values"
   ]
  },
  {
   "cell_type": "code",
   "execution_count": 23,
   "metadata": {
    "colab": {
     "base_uri": "https://localhost:8080/",
     "height": 235
    },
    "id": "jTBBjIJJ0Dl8",
    "outputId": "b53f6b55-0953-4e08-d5e8-fab1d5775058"
   },
   "outputs": [],
   "source": [
    "# your code here"
   ]
  },
  {
   "cell_type": "markdown",
   "metadata": {},
   "source": [
    "### Since that in column Age there is a big percentage of null values, how these null values appear?"
   ]
  },
  {
   "cell_type": "code",
   "execution_count": 24,
   "metadata": {},
   "outputs": [],
   "source": [
    "# your code here "
   ]
  },
  {
   "cell_type": "markdown",
   "metadata": {
    "id": "A3DfLXq60Dli"
   },
   "source": [
    "\n",
    "## 3.2 Drop columns with significative null values\n"
   ]
  },
  {
   "cell_type": "code",
   "execution_count": 25,
   "metadata": {
    "id": "oE36Fo040Dlj",
    "scrolled": true
   },
   "outputs": [],
   "source": [
    "# your code here"
   ]
  },
  {
   "cell_type": "markdown",
   "metadata": {
    "id": "OJ1wWgmV0DmP"
   },
   "source": [
    "## 3.3 Checkpoint\n",
    "\n",
    "Save the cleaned dataset.\n"
   ]
  },
  {
   "cell_type": "code",
   "execution_count": 26,
   "metadata": {
    "colab": {
     "base_uri": "https://localhost:8080/",
     "height": 319
    },
    "id": "zFigqbf80DmP",
    "outputId": "6ecce2f9-a09f-45af-e442-219df0e4e953"
   },
   "outputs": [],
   "source": [
    "# your code here "
   ]
  }
 ],
 "metadata": {
  "colab": {
   "collapsed_sections": [
    "ssh24sOB0DlC",
    "fVQfjcd10DlG",
    "pKQKWkoG0DlO",
    "wyAEHx_H0DlU",
    "bJdxcFDL0DlZ",
    "bNYwpe1G0Dlb",
    "RXFdtacE0Dle"
   ],
   "name": "Data Science Practical 1 Solutions.ipynb",
   "provenance": [],
   "toc_visible": true
  },
  "kernelspec": {
   "display_name": "Python 3 (ipykernel)",
   "language": "python",
   "name": "python3"
  },
  "language_info": {
   "codemirror_mode": {
    "name": "ipython",
    "version": 3
   },
   "file_extension": ".py",
   "mimetype": "text/x-python",
   "name": "python",
   "nbconvert_exporter": "python",
   "pygments_lexer": "ipython3",
   "version": "3.9.7"
  },
  "pycharm": {
   "stem_cell": {
    "cell_type": "raw",
    "metadata": {
     "collapsed": false
    },
    "source": []
   }
  }
 },
 "nbformat": 4,
 "nbformat_minor": 1
}
